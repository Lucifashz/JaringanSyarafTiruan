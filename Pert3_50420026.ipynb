{
  "nbformat": 4,
  "nbformat_minor": 0,
  "metadata": {
    "colab": {
      "provenance": []
    },
    "kernelspec": {
      "name": "python3",
      "display_name": "Python 3"
    },
    "language_info": {
      "name": "python"
    }
  },
  "cells": [
    {
      "cell_type": "markdown",
      "source": [
        "### IMPORT LIBRARY"
      ],
      "metadata": {
        "id": "bb7DEdY4dzi5"
      }
    },
    {
      "cell_type": "code",
      "execution_count": 48,
      "metadata": {
        "id": "cQlpweUJUvAu"
      },
      "outputs": [],
      "source": [
        "import numpy as np #Komputasi numerik atau pembuatan array\n",
        "import matplotlib.pyplot as plt #Visualisasi data\n",
        "from keras.layers import Input, Dense #Membantu proses untuk encoding dan decoding\n",
        "from keras.models import Model #Memanggil model dari library keras\n",
        "from keras.datasets import mnist #Dataset yang digunakan"
      ]
    },
    {
      "cell_type": "markdown",
      "source": [
        "### DATA PREPOCESSING"
      ],
      "metadata": {
        "id": "P9ZwNCKfd3Yd"
      }
    },
    {
      "cell_type": "code",
      "source": [
        "(x_train, y_train), (x_test, y_test) = mnist.load_data()"
      ],
      "metadata": {
        "id": "xgkrhzdhVJsV"
      },
      "execution_count": 49,
      "outputs": []
    },
    {
      "cell_type": "code",
      "source": [
        "#Normalisasi pada Dataset\n",
        "x_train = x_train/255.0\n",
        "x_test = x_test/255.0"
      ],
      "metadata": {
        "id": "3YYx8a1DVuor"
      },
      "execution_count": 50,
      "outputs": []
    },
    {
      "cell_type": "code",
      "source": [
        "x_train.shape"
      ],
      "metadata": {
        "colab": {
          "base_uri": "https://localhost:8080/"
        },
        "id": "5y8ygDsvV9he",
        "outputId": "b5518ed5-fc49-466a-836d-6832514ed988"
      },
      "execution_count": 51,
      "outputs": [
        {
          "output_type": "execute_result",
          "data": {
            "text/plain": [
              "(60000, 28, 28)"
            ]
          },
          "metadata": {},
          "execution_count": 51
        }
      ]
    },
    {
      "cell_type": "code",
      "source": [
        "x_train = np.reshape(x_train,\n",
        "                    (x_train.shape[0], 784))\n",
        "x_test = np.reshape(x_test,\n",
        "                   (x_test.shape[0], 784))"
      ],
      "metadata": {
        "id": "yG84g1WvWAzO"
      },
      "execution_count": 52,
      "outputs": []
    },
    {
      "cell_type": "code",
      "source": [
        "x_train.shape"
      ],
      "metadata": {
        "colab": {
          "base_uri": "https://localhost:8080/"
        },
        "id": "4_dmXTPlWdYa",
        "outputId": "d9461471-24a6-4cb3-8836-ac3847460797"
      },
      "execution_count": 53,
      "outputs": [
        {
          "output_type": "execute_result",
          "data": {
            "text/plain": [
              "(60000, 784)"
            ]
          },
          "metadata": {},
          "execution_count": 53
        }
      ]
    },
    {
      "cell_type": "markdown",
      "source": [
        "### MODELLING"
      ],
      "metadata": {
        "id": "lQET5_G-d-DG"
      }
    },
    {
      "cell_type": "code",
      "source": [
        "inputs = Input(shape = (784,))\n",
        "h_encode = Dense(512, activation = 'relu')(inputs)\n",
        "h_encode = Dense(256, activation = 'relu')(h_encode)\n",
        "h_encode = Dense(128, activation = 'relu')(h_encode)\n",
        "h_encode = Dense(64, activation = 'relu')(h_encode)\n",
        "\n",
        "coded = Dense(32, activation = 'relu')(h_encode)\n",
        "\n",
        "h_decode = Dense(64, activation = 'relu')(coded)\n",
        "h_decode = Dense(128, activation = 'relu')(h_decode)\n",
        "h_decode = Dense(256, activation = 'relu')(h_decode)\n",
        "h_decode = Dense(512, activation = 'relu')(h_decode)\n",
        "\n",
        "outputs = Dense(784, activation = 'sigmoid')(h_decode)\n",
        "autoencoder = Model(inputs, outputs)"
      ],
      "metadata": {
        "id": "_JpykvBnWrp-"
      },
      "execution_count": 54,
      "outputs": []
    },
    {
      "cell_type": "markdown",
      "source": [
        "### TRAINING MODEL"
      ],
      "metadata": {
        "id": "8mfzY33zeDiW"
      }
    },
    {
      "cell_type": "code",
      "source": [
        "autoencoder.compile(optimizer = 'adam',\n",
        "                    loss = 'mean_squared_error')\n",
        "\n",
        "autoencoder.fit(x_train, x_train,\n",
        "                epochs = 10,\n",
        "                batch_size = 100,\n",
        "                shuffle = True,\n",
        "                validation_data = (x_test, x_test))"
      ],
      "metadata": {
        "colab": {
          "base_uri": "https://localhost:8080/"
        },
        "id": "b0enYAayXp4w",
        "outputId": "6f9f6dd4-0a11-4403-c710-5d441b9c08d3"
      },
      "execution_count": 55,
      "outputs": [
        {
          "output_type": "stream",
          "name": "stdout",
          "text": [
            "Epoch 1/10\n",
            "600/600 [==============================] - 18s 29ms/step - loss: 0.0443 - val_loss: 0.0255\n",
            "Epoch 2/10\n",
            "600/600 [==============================] - 15s 25ms/step - loss: 0.0223 - val_loss: 0.0194\n",
            "Epoch 3/10\n",
            "600/600 [==============================] - 18s 30ms/step - loss: 0.0180 - val_loss: 0.0163\n",
            "Epoch 4/10\n",
            "600/600 [==============================] - 16s 26ms/step - loss: 0.0156 - val_loss: 0.0145\n",
            "Epoch 5/10\n",
            "600/600 [==============================] - 15s 25ms/step - loss: 0.0141 - val_loss: 0.0132\n",
            "Epoch 6/10\n",
            "600/600 [==============================] - 15s 25ms/step - loss: 0.0128 - val_loss: 0.0122\n",
            "Epoch 7/10\n",
            "600/600 [==============================] - 15s 25ms/step - loss: 0.0117 - val_loss: 0.0118\n",
            "Epoch 8/10\n",
            "600/600 [==============================] - 15s 25ms/step - loss: 0.0110 - val_loss: 0.0110\n",
            "Epoch 9/10\n",
            "600/600 [==============================] - 15s 25ms/step - loss: 0.0105 - val_loss: 0.0106\n",
            "Epoch 10/10\n",
            "600/600 [==============================] - 15s 25ms/step - loss: 0.0100 - val_loss: 0.0102\n"
          ]
        },
        {
          "output_type": "execute_result",
          "data": {
            "text/plain": [
              "<keras.callbacks.History at 0x7fef28cc6be0>"
            ]
          },
          "metadata": {},
          "execution_count": 55
        }
      ]
    },
    {
      "cell_type": "markdown",
      "source": [
        "### PREDICT & VISUALIZATION"
      ],
      "metadata": {
        "id": "xEy4r8NUeJLy"
      }
    },
    {
      "cell_type": "code",
      "source": [
        "predicted = autoencoder.predict(x_test)"
      ],
      "metadata": {
        "colab": {
          "base_uri": "https://localhost:8080/"
        },
        "id": "_Q2AtWOIYSSX",
        "outputId": "e3089ec7-e25b-4bdd-dcc1-1782f2d95abd"
      },
      "execution_count": 56,
      "outputs": [
        {
          "output_type": "stream",
          "name": "stdout",
          "text": [
            "313/313 [==============================] - 2s 6ms/step\n"
          ]
        }
      ]
    },
    {
      "cell_type": "code",
      "source": [
        "n = 10\n",
        "plt.figure(figsize = (10, 3))\n",
        "\n",
        "for i in range(n):\n",
        "  ax = plt.subplot(2, n, i + 1)\n",
        "  plt.imshow(x_test[i].reshape(28, 28))\n",
        "  plt.gray()\n",
        "  ax.get_xaxis().set_visible(False)\n",
        "  ax.get_yaxis().set_visible(False)\n",
        "\n",
        "  ax = plt.subplot(2, n, i + 1 + n)\n",
        "  plt.imshow(predicted[i].reshape(28, 28))\n",
        "  plt.gray()\n",
        "  ax.get_xaxis().set_visible(False)\n",
        "  ax.get_yaxis().set_visible(False)\n",
        "\n",
        "plt.show()"
      ],
      "metadata": {
        "colab": {
          "base_uri": "https://localhost:8080/",
          "height": 171
        },
        "id": "pHV6nUeDYY71",
        "outputId": "2b3a7a82-c50e-478c-ee5c-0b637f6bdf6c"
      },
      "execution_count": 59,
      "outputs": [
        {
          "output_type": "display_data",
          "data": {
            "text/plain": [
              "<Figure size 720x216 with 20 Axes>"
            ],
            "image/png": "[encoded data removed]"
          },
          "metadata": {
            "needs_background": "light"
          }
        }
      ]
    }
  ]
}