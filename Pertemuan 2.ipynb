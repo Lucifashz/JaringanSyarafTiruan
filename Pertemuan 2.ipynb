{
  "cells": [
    {
      "cell_type": "markdown",
      "metadata": {
        "id": "biSYb_7bqdHu"
      },
      "source": [
        "## Import Libray"
      ]
    },
    {
      "cell_type": "code",
      "execution_count": null,
      "metadata": {
        "id": "vdtYHqPEpYAF"
      },
      "outputs": [],
      "source": [
        "from keras.models import Sequential #Model Secara Berurutan\n",
        "from keras.layers import Dense, Activation, Flatten, Reshape\n",
        "from keras.layers import Conv2D, MaxPooling2D #Mereduksi Citra\n",
        "from keras.layers import Dropout #Mencegah Overfitting\n",
        "from keras.optimizers import Adam ,RMSprop #Pengaturan Learning Rate"
      ]
    },
    {
      "cell_type": "code",
      "execution_count": null,
      "metadata": {
        "id": "3aC7VQj-qBRv"
      },
      "outputs": [],
      "source": [
        "import matplotlib.pyplot as plt #Visualisasi\n",
        "import numpy as np #Komputasi Numerik"
      ]
    },
    {
      "cell_type": "markdown",
      "metadata": {
        "id": "7yG--fy1qLs1"
      },
      "source": [
        "## Data Collection"
      ]
    },
    {
      "cell_type": "code",
      "execution_count": null,
      "metadata": {
        "id": "AF9JRKdpqYyM"
      },
      "outputs": [],
      "source": [
        "from tensorflow.keras.datasets import cifar10\n",
        "from keras.utils import to_categorical\n",
        "\n",
        "(X_train, Y_train), (X_test, Y_test) = cifar10.load_data()"
      ]
    },
    {
      "cell_type": "code",
      "source": [
        "print(\"Jumlah Data, Lebar Piksel, Tinggi Piksel, Warna\", X_train.shape)"
      ],
      "metadata": {
        "colab": {
          "base_uri": "https://localhost:8080/"
        },
        "id": "r1gDJiu1TL3R",
        "outputId": "e03f7f1e-b02b-413e-e29e-7e5ae4596382"
      },
      "execution_count": null,
      "outputs": [
        {
          "output_type": "stream",
          "name": "stdout",
          "text": [
            "Jumlah Data, Lebar Piksel, Tinggi Piksel, Warna (50000, 32, 32, 3)\n"
          ]
        }
      ]
    },
    {
      "cell_type": "code",
      "execution_count": null,
      "metadata": {
        "colab": {
          "base_uri": "https://localhost:8080/"
        },
        "id": "Rg7mx_nqsBBr",
        "outputId": "81a513a7-5d71-4f42-948b-68e10d5c7d23"
      },
      "outputs": [
        {
          "output_type": "execute_result",
          "data": {
            "text/plain": [
              "array([[[ 28,  25,  10],\n",
              "        [ 37,  34,  19],\n",
              "        [ 38,  35,  20],\n",
              "        ...,\n",
              "        [ 76,  67,  39],\n",
              "        [ 81,  72,  43],\n",
              "        [ 85,  76,  47]],\n",
              "\n",
              "       [[ 33,  28,  13],\n",
              "        [ 34,  30,  14],\n",
              "        [ 32,  27,  12],\n",
              "        ...,\n",
              "        [ 95,  82,  55],\n",
              "        [ 96,  82,  56],\n",
              "        [ 85,  72,  45]],\n",
              "\n",
              "       [[ 39,  32,  15],\n",
              "        [ 40,  33,  17],\n",
              "        [ 57,  50,  33],\n",
              "        ...,\n",
              "        [ 93,  76,  52],\n",
              "        [107,  89,  66],\n",
              "        [ 95,  77,  54]],\n",
              "\n",
              "       ...,\n",
              "\n",
              "       [[ 83,  73,  52],\n",
              "        [ 87,  77,  56],\n",
              "        [ 84,  74,  52],\n",
              "        ...,\n",
              "        [ 99,  93,  70],\n",
              "        [ 90,  84,  61],\n",
              "        [ 81,  75,  52]],\n",
              "\n",
              "       [[ 88,  72,  51],\n",
              "        [ 90,  74,  52],\n",
              "        [ 93,  77,  56],\n",
              "        ...,\n",
              "        [ 80,  74,  53],\n",
              "        [ 76,  70,  49],\n",
              "        [ 82,  76,  55]],\n",
              "\n",
              "       [[ 97,  78,  56],\n",
              "        [ 94,  75,  53],\n",
              "        [ 93,  75,  53],\n",
              "        ...,\n",
              "        [ 54,  47,  28],\n",
              "        [ 63,  56,  37],\n",
              "        [ 72,  65,  46]]], dtype=uint8)"
            ]
          },
          "metadata": {},
          "execution_count": 25
        }
      ],
      "source": [
        "X_train[3]"
      ]
    },
    {
      "cell_type": "markdown",
      "metadata": {
        "id": "Ju66foaQsDU9"
      },
      "source": [
        "## Data Processing"
      ]
    },
    {
      "cell_type": "code",
      "execution_count": null,
      "metadata": {
        "id": "0YfIsxznsHL7"
      },
      "outputs": [],
      "source": [
        "#Normalisasi\n",
        "X_train = X_train/255.0\n",
        "X_test = X_test/255.0"
      ]
    },
    {
      "cell_type": "code",
      "execution_count": null,
      "metadata": {
        "id": "ohukWCdIs9Xq",
        "colab": {
          "base_uri": "https://localhost:8080/"
        },
        "outputId": "dfc1c243-ab40-41da-f417-ffca0d293ec9"
      },
      "outputs": [
        {
          "output_type": "execute_result",
          "data": {
            "text/plain": [
              "array([0., 0., 0., 0., 0., 0., 0., 0., 1., 0.], dtype=float32)"
            ]
          },
          "metadata": {},
          "execution_count": 27
        }
      ],
      "source": [
        "from tensorflow.keras.utils import to_categorical #Multiclass\n",
        "\n",
        "Y_train = to_categorical(Y_train)\n",
        "Y_test = to_categorical(Y_test)\n",
        "Y_test[1]"
      ]
    },
    {
      "cell_type": "markdown",
      "metadata": {
        "id": "V3Rf3gFQtUCW"
      },
      "source": [
        "## Modeling"
      ]
    },
    {
      "cell_type": "code",
      "execution_count": null,
      "metadata": {
        "id": "VZd23IE0tW3t",
        "colab": {
          "base_uri": "https://localhost:8080/"
        },
        "outputId": "a9aa95e6-0704-4579-9b7b-0a7fad1c44d0"
      },
      "outputs": [
        {
          "output_type": "stream",
          "name": "stdout",
          "text": [
            "Model: \"sequential_1\"\n",
            "_________________________________________________________________\n",
            " Layer (type)                Output Shape              Param #   \n",
            "=================================================================\n",
            " conv2d_6 (Conv2D)           (None, 32, 32, 32)        896       \n",
            "                                                                 \n",
            " max_pooling2d_3 (MaxPooling  (None, 16, 16, 32)       0         \n",
            " 2D)                                                             \n",
            "                                                                 \n",
            " dropout_5 (Dropout)         (None, 16, 16, 32)        0         \n",
            "                                                                 \n",
            " conv2d_7 (Conv2D)           (None, 16, 16, 64)        18496     \n",
            "                                                                 \n",
            " max_pooling2d_4 (MaxPooling  (None, 8, 8, 64)         0         \n",
            " 2D)                                                             \n",
            "                                                                 \n",
            " dropout_6 (Dropout)         (None, 8, 8, 64)          0         \n",
            "                                                                 \n",
            " conv2d_8 (Conv2D)           (None, 8, 8, 128)         73856     \n",
            "                                                                 \n",
            " max_pooling2d_5 (MaxPooling  (None, 4, 4, 128)        0         \n",
            " 2D)                                                             \n",
            "                                                                 \n",
            " dropout_7 (Dropout)         (None, 4, 4, 128)         0         \n",
            "                                                                 \n",
            " flatten_1 (Flatten)         (None, 2048)              0         \n",
            "                                                                 \n",
            " dense_2 (Dense)             (None, 512)               1049088   \n",
            "                                                                 \n",
            " dropout_8 (Dropout)         (None, 512)               0         \n",
            "                                                                 \n",
            " dense_3 (Dense)             (None, 128)               65664     \n",
            "                                                                 \n",
            " dense_4 (Dense)             (None, 10)                1290      \n",
            "                                                                 \n",
            "=================================================================\n",
            "Total params: 1,209,290\n",
            "Trainable params: 1,209,290\n",
            "Non-trainable params: 0\n",
            "_________________________________________________________________\n"
          ]
        }
      ],
      "source": [
        "import tensorflow as tf\n",
        "input_shape = X_train.shape[1:] #(32,32,3)\n",
        "\n",
        "model = tf.keras.models.Sequential([\n",
        "    tf.keras.layers.Conv2D(32, (3, 3), padding = 'same',\n",
        "                           activation = 'relu', input_shape = input_shape), #Conv2D Pertama\n",
        "    tf.keras.layers.MaxPooling2D(2, 2), #Mereduksi Citra\n",
        "    tf.keras.layers.Dropout(0.3), #Menvegah Overfitting\n",
        "\n",
        "    tf.keras.layers.Conv2D(64, (3, 3), padding = 'same',\n",
        "                           activation = 'relu'),\n",
        "    tf.keras.layers.MaxPooling2D(2, 2),\n",
        "    tf.keras.layers.Dropout(0.3),\n",
        "\n",
        "    tf.keras.layers.Conv2D(128, (3, 3), padding = 'same',\n",
        "                           activation = 'relu'),\n",
        "    tf.keras.layers.MaxPooling2D(2, 2),\n",
        "    tf.keras.layers.Dropout(0.3),     \n",
        "\n",
        "    tf.keras.layers.Flatten(), #Reshape feature map dari multidimensional array menjadi vektor\n",
        "    tf.keras.layers.Dense(512, activation = 'relu'), #Hidden Layer  \n",
        "    tf.keras.layers.Dropout(0.4),\n",
        "    tf.keras.layers.Dense(128, activation = 'relu'),\n",
        "    tf.keras.layers.Dense(10, activation = 'softmax') #Output   \n",
        "])\n",
        "\n",
        "model.summary()"
      ]
    },
    {
      "cell_type": "code",
      "execution_count": null,
      "metadata": {
        "id": "BBHLSQFexDwj"
      },
      "outputs": [],
      "source": [
        "model.compile(optimizer = 'adam', #Pengaturan Learning Rate\n",
        "              loss = 'categorical_crossentropy', #Untuk mengatur informasi yg hilang\n",
        "              metrics = ['accuracy'])"
      ]
    },
    {
      "cell_type": "markdown",
      "source": [
        "# Trainning Model"
      ],
      "metadata": {
        "id": "9c16O_h6hFp7"
      }
    },
    {
      "cell_type": "code",
      "execution_count": null,
      "metadata": {
        "colab": {
          "base_uri": "https://localhost:8080/"
        },
        "id": "GnxUdUlRxbLO",
        "outputId": "6b51a58b-ec6e-4da0-e472-a0adb8ad375d"
      },
      "outputs": [
        {
          "output_type": "stream",
          "name": "stdout",
          "text": [
            "Epoch 1/25\n",
            "50/50 [==============================] - 4s 51ms/step - loss: 2.0682 - accuracy: 0.2332 - val_loss: 1.9114 - val_accuracy: 0.3158\n",
            "Epoch 2/25\n",
            "50/50 [==============================] - 2s 44ms/step - loss: 1.7101 - accuracy: 0.3754 - val_loss: 1.6174 - val_accuracy: 0.4343\n",
            "Epoch 3/25\n",
            "50/50 [==============================] - 2s 46ms/step - loss: 1.5360 - accuracy: 0.4418 - val_loss: 1.4347 - val_accuracy: 0.4901\n",
            "Epoch 4/25\n",
            "50/50 [==============================] - 2s 46ms/step - loss: 1.4127 - accuracy: 0.4885 - val_loss: 1.3071 - val_accuracy: 0.5442\n",
            "Epoch 5/25\n",
            "50/50 [==============================] - 2s 43ms/step - loss: 1.3303 - accuracy: 0.5231 - val_loss: 1.2127 - val_accuracy: 0.5778\n",
            "Epoch 6/25\n",
            "50/50 [==============================] - 2s 46ms/step - loss: 1.2586 - accuracy: 0.5506 - val_loss: 1.1590 - val_accuracy: 0.5964\n",
            "Epoch 7/25\n",
            "50/50 [==============================] - 2s 46ms/step - loss: 1.1887 - accuracy: 0.5732 - val_loss: 1.1055 - val_accuracy: 0.6094\n",
            "Epoch 8/25\n",
            "50/50 [==============================] - 2s 44ms/step - loss: 1.1483 - accuracy: 0.5900 - val_loss: 1.0258 - val_accuracy: 0.6405\n",
            "Epoch 9/25\n",
            "50/50 [==============================] - 2s 44ms/step - loss: 1.0937 - accuracy: 0.6109 - val_loss: 1.0090 - val_accuracy: 0.6448\n",
            "Epoch 10/25\n",
            "50/50 [==============================] - 2s 47ms/step - loss: 1.0508 - accuracy: 0.6269 - val_loss: 0.9395 - val_accuracy: 0.6704\n",
            "Epoch 11/25\n",
            "50/50 [==============================] - 2s 44ms/step - loss: 1.0246 - accuracy: 0.6351 - val_loss: 0.9242 - val_accuracy: 0.6806\n",
            "Epoch 12/25\n",
            "50/50 [==============================] - 2s 43ms/step - loss: 0.9881 - accuracy: 0.6489 - val_loss: 0.9123 - val_accuracy: 0.6797\n",
            "Epoch 13/25\n",
            "50/50 [==============================] - 2s 44ms/step - loss: 0.9599 - accuracy: 0.6579 - val_loss: 0.8805 - val_accuracy: 0.6877\n",
            "Epoch 14/25\n",
            "50/50 [==============================] - 2s 43ms/step - loss: 0.9273 - accuracy: 0.6709 - val_loss: 0.8806 - val_accuracy: 0.6882\n",
            "Epoch 15/25\n",
            "50/50 [==============================] - 2s 43ms/step - loss: 0.9031 - accuracy: 0.6798 - val_loss: 0.8632 - val_accuracy: 0.6928\n",
            "Epoch 16/25\n",
            "50/50 [==============================] - 2s 48ms/step - loss: 0.8871 - accuracy: 0.6879 - val_loss: 0.8243 - val_accuracy: 0.7076\n",
            "Epoch 17/25\n",
            "50/50 [==============================] - 2s 47ms/step - loss: 0.8534 - accuracy: 0.6973 - val_loss: 0.8144 - val_accuracy: 0.7124\n",
            "Epoch 18/25\n",
            "50/50 [==============================] - 2s 46ms/step - loss: 0.8382 - accuracy: 0.7033 - val_loss: 0.7685 - val_accuracy: 0.7328\n",
            "Epoch 19/25\n",
            "50/50 [==============================] - 2s 46ms/step - loss: 0.8187 - accuracy: 0.7109 - val_loss: 0.7664 - val_accuracy: 0.7302\n",
            "Epoch 20/25\n",
            "50/50 [==============================] - 2s 46ms/step - loss: 0.8079 - accuracy: 0.7115 - val_loss: 0.7516 - val_accuracy: 0.7378\n",
            "Epoch 21/25\n",
            "50/50 [==============================] - 2s 46ms/step - loss: 0.7846 - accuracy: 0.7213 - val_loss: 0.7749 - val_accuracy: 0.7261\n",
            "Epoch 22/25\n",
            "50/50 [==============================] - 2s 43ms/step - loss: 0.7732 - accuracy: 0.7260 - val_loss: 0.7386 - val_accuracy: 0.7390\n",
            "Epoch 23/25\n",
            "50/50 [==============================] - 2s 46ms/step - loss: 0.7533 - accuracy: 0.7340 - val_loss: 0.7152 - val_accuracy: 0.7515\n",
            "Epoch 24/25\n",
            "50/50 [==============================] - 2s 46ms/step - loss: 0.7460 - accuracy: 0.7344 - val_loss: 0.7195 - val_accuracy: 0.7446\n",
            "Epoch 25/25\n",
            "50/50 [==============================] - 2s 43ms/step - loss: 0.7258 - accuracy: 0.7412 - val_loss: 0.7456 - val_accuracy: 0.7390\n"
          ]
        }
      ],
      "source": [
        "hist = model.fit(X_train, Y_train,\n",
        "                 epochs=25,\n",
        "                 batch_size=1000,\n",
        "                 shuffle=True,\n",
        "                 validation_data=(X_test, Y_test))"
      ]
    },
    {
      "cell_type": "markdown",
      "metadata": {
        "id": "XPO-MetBx6h9"
      },
      "source": [
        "## Model Evaluation"
      ]
    },
    {
      "cell_type": "code",
      "execution_count": null,
      "metadata": {
        "colab": {
          "base_uri": "https://localhost:8080/"
        },
        "id": "lGJs0v7Zx9iN",
        "outputId": "68567dc6-c610-4e87-b1ed-6f7005dc0e05"
      },
      "outputs": [
        {
          "output_type": "stream",
          "name": "stdout",
          "text": [
            "313/313 [==============================] - 1s 3ms/step - loss: 0.7456 - accuracy: 0.7390\n",
            "Accuracy:  73.90000224113464 %\n"
          ]
        }
      ],
      "source": [
        "score = model.evaluate(X_test, Y_test)\n",
        "print(\"Accuracy: \", score[1]*100, \"%\")"
      ]
    },
    {
      "cell_type": "code",
      "execution_count": null,
      "metadata": {
        "colab": {
          "base_uri": "https://localhost:8080/",
          "height": 295
        },
        "id": "ug9HdmnoyVX0",
        "outputId": "a82321b5-a5a9-4639-801f-a69db821a0a9"
      },
      "outputs": [
        {
          "output_type": "display_data",
          "data": {
            "text/plain": [
              "<Figure size 432x288 with 1 Axes>"
            ],
            "image/png": "[encoded data removed]"
          },
          "metadata": {
            "needs_background": "light"
          }
        }
      ],
      "source": [
        "plt.plot(hist.history['accuracy'])\n",
        "plt.plot(hist.history['val_accuracy'])\n",
        "plt.legend(['Acc', 'val_acc'])\n",
        "plt.title('Plot Akurasi')\n",
        "plt.xlabel('Epochs')\n",
        "plt.ylabel('accuracy')\n",
        "plt.show()"
      ]
    },
    {
      "cell_type": "code",
      "source": [
        "plt.plot(hist.history['loss'])\n",
        "plt.plot(hist.history['val_accuracy'])\n",
        "plt.legend(['ACC', 'val_acc'])\n",
        "plt.title('Plot Akurasi')\n",
        "plt.xlabel('Epochs')\n",
        "plt.ylabel('accuracy')\n",
        "plt.show()"
      ],
      "metadata": {
        "colab": {
          "base_uri": "https://localhost:8080/",
          "height": 295
        },
        "id": "7rpccuIDj_hF",
        "outputId": "db94320e-22ad-46fb-a599-2e6f0647eab9"
      },
      "execution_count": null,
      "outputs": [
        {
          "output_type": "display_data",
          "data": {
            "text/plain": [
              "<Figure size 432x288 with 1 Axes>"
            ],
            "image/png": "[encoded data removed]"
          },
          "metadata": {
            "needs_background": "light"
          }
        }
      ]
    },
    {
      "cell_type": "markdown",
      "metadata": {
        "id": "f9macITfy38o"
      },
      "source": [
        "## Model Prediction"
      ]
    },
    {
      "cell_type": "code",
      "execution_count": null,
      "metadata": {
        "colab": {
          "base_uri": "https://localhost:8080/",
          "height": 297
        },
        "id": "Rzl4PW1Iy7_P",
        "outputId": "60662888-10a9-4717-9b3b-2651220e6100"
      },
      "outputs": [
        {
          "output_type": "stream",
          "name": "stdout",
          "text": [
            "1/1 [==============================] - 0s 17ms/step\n"
          ]
        },
        {
          "output_type": "display_data",
          "data": {
            "text/plain": [
              "<Figure size 432x288 with 4 Axes>"
            ],
            "image/png": "[encoded data removed]"
          },
          "metadata": {
            "needs_background": "light"
          }
        }
      ],
      "source": [
        "dict_label = {0:'airplane', 1:'automobile', 2:'bird',\n",
        "              3:'cat', 4:'deer', 5:'dog',\n",
        "              6:'frog', 7:'house', 8:'ship', 9:'truck'}\n",
        "def predict():\n",
        "  some_random_number = np.random.randint(low = 0, high = len(X_test)-1, size=4)\n",
        "  sample_images = X_train[some_random_number]\n",
        "  sample_label = Y_train[some_random_number]\n",
        "  predicted = model.predict(sample_images)\n",
        "  predicted = np.argmax(predicted, axis=1)\n",
        "  true_label = np.argmax(sample_label, axis =1)\n",
        "  fig, axs = plt.subplots(2, 2)\n",
        "  for row in range(2):\n",
        "    for col in range(2):\n",
        "      if row == 0:\n",
        "        true = true_label[row+col]\n",
        "        pred = predicted[row+col]\n",
        "        axs[row, col].imshow(sample_images[row+col+1])\n",
        "      else:\n",
        "        true = true_label[row+col+1]\n",
        "        pred = predicted[row+col+1]\n",
        "        axs[row, col].imshow(sample_images[row+col+1])\n",
        "      axs[row, col].set_title('True: %s \\nPredicted: %s' % (dict_label[true], dict_label[pred]))\n",
        "      axs[row, col].axis('off')\n",
        "\n",
        "predict()"
      ]
    }
  ],
  "metadata": {
    "accelerator": "GPU",
    "colab": {
      "provenance": []
    },
    "gpuClass": "standard",
    "kernelspec": {
      "display_name": "Python 3",
      "name": "python3"
    },
    "language_info": {
      "name": "python"
    }
  },
  "nbformat": 4,
  "nbformat_minor": 0
}